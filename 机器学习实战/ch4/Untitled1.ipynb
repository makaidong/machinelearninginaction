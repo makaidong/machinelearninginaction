{
 "cells": [
  {
   "cell_type": "code",
   "execution_count": 1,
   "metadata": {
    "collapsed": true
   },
   "outputs": [],
   "source": [
    "import bayes"
   ]
  },
  {
   "cell_type": "markdown",
   "metadata": {},
   "source": [
    "# 准备数据:从文本中构建词向量"
   ]
  },
  {
   "cell_type": "code",
   "execution_count": 2,
   "metadata": {},
   "outputs": [
    {
     "name": "stdout",
     "output_type": "stream",
     "text": [
      "['my', 'garbage', 'ate', 'dalmation', 'has', 'park', 'stop', 'so', 'cute', 'how', 'flea', 'problems', 'love', 'dog', 'to', 'stupid', 'please', 'is', 'steak', 'not', 'help', 'posting', 'mr', 'him', 'buying', 'maybe', 'licks', 'take', 'I', 'food', 'quit', 'worthless']\n",
      "[1, 0, 0, 0, 1, 0, 0, 0, 0, 0, 1, 1, 0, 1, 0, 0, 1, 0, 0, 0, 1, 0, 0, 0, 0, 0, 0, 0, 0, 0, 0, 0]\n"
     ]
    }
   ],
   "source": [
    "listOPosts, listClasses = bayes.loadDataSet()\n",
    "myVocabList = bayes.createVocabList(listOPosts)\n",
    "print(myVocabList)\n",
    "testVector = bayes.setOfWords2Vec(myVocabList, listOPosts[0])\n",
    "print(testVector)"
   ]
  },
  {
   "cell_type": "markdown",
   "metadata": {},
   "source": [
    "# 训练算法:从词向量计算概率"
   ]
  },
  {
   "cell_type": "markdown",
   "metadata": {},
   "source": [
    "# $p(c_i|w) = \\frac{p(c_i|w)p(c_i)}{p(w)}$"
   ]
  },
  {
   "cell_type": "code",
   "execution_count": 3,
   "metadata": {},
   "outputs": [
    {
     "name": "stdout",
     "output_type": "stream",
     "text": [
      "[[1, 0, 0, 0, 1, 0, 0, 0, 0, 0, 1, 1, 0, 1, 0, 0, 1, 0, 0, 0, 1, 0, 0, 0, 0, 0, 0, 0, 0, 0, 0, 0], [0, 0, 0, 0, 0, 1, 0, 0, 0, 0, 0, 0, 0, 1, 1, 1, 0, 0, 0, 1, 0, 0, 0, 1, 0, 1, 0, 1, 0, 0, 0, 0], [1, 0, 0, 1, 0, 0, 0, 1, 1, 0, 0, 0, 1, 0, 0, 0, 0, 1, 0, 0, 0, 0, 0, 1, 0, 0, 0, 0, 1, 0, 0, 0], [0, 1, 0, 0, 0, 0, 1, 0, 0, 0, 0, 0, 0, 0, 0, 1, 0, 0, 0, 0, 0, 1, 0, 0, 0, 0, 0, 0, 0, 0, 0, 1], [1, 0, 1, 0, 0, 0, 1, 0, 0, 1, 0, 0, 0, 0, 1, 0, 0, 0, 1, 0, 0, 0, 1, 1, 0, 0, 1, 0, 0, 0, 0, 0], [0, 0, 0, 0, 0, 0, 0, 0, 0, 0, 0, 0, 0, 1, 0, 1, 0, 0, 0, 0, 0, 0, 0, 0, 1, 0, 0, 0, 0, 1, 1, 1]]\n"
     ]
    }
   ],
   "source": [
    "trainMat = []\n",
    "for postinDoc in listOPosts:\n",
    "    trainMat.append(bayes.setOfWords2Vec(myVocabList, postinDoc))\n",
    "print(trainMat)"
   ]
  },
  {
   "cell_type": "code",
   "execution_count": 4,
   "metadata": {},
   "outputs": [
    {
     "name": "stdout",
     "output_type": "stream",
     "text": [
      "[0, 1, 0, 1, 0, 1]\n"
     ]
    }
   ],
   "source": [
    "print(listClasses)"
   ]
  },
  {
   "cell_type": "code",
   "execution_count": 5,
   "metadata": {},
   "outputs": [
    {
     "name": "stdout",
     "output_type": "stream",
     "text": [
      "[ 0.  0.  0.  0.  0.  1.  0.  0.  0.  0.  0.  0.  0.  1.  1.  1.  0.  0.\n",
      "  0.  1.  0.  0.  0.  1.  0.  1.  0.  1.  0.  0.  0.  0.]\n",
      "8.0\n",
      "[ 0.  1.  0.  0.  0.  1.  1.  0.  0.  0.  0.  0.  0.  1.  1.  2.  0.  0.\n",
      "  0.  1.  0.  1.  0.  1.  0.  1.  0.  1.  0.  0.  0.  1.]\n",
      "13.0\n",
      "[ 0.  1.  0.  0.  0.  1.  1.  0.  0.  0.  0.  0.  0.  2.  1.  3.  0.  0.\n",
      "  0.  1.  0.  1.  0.  1.  1.  1.  0.  1.  0.  1.  1.  2.]\n",
      "19.0\n"
     ]
    }
   ],
   "source": [
    "p0V, p1V, pAb = bayes.trainNB0(trainMat, listClasses)"
   ]
  },
  {
   "cell_type": "code",
   "execution_count": 6,
   "metadata": {},
   "outputs": [
    {
     "name": "stdout",
     "output_type": "stream",
     "text": [
      "[ 0.125       0.          0.04166667  0.04166667  0.04166667  0.\n",
      "  0.04166667  0.04166667  0.04166667  0.04166667  0.04166667  0.04166667\n",
      "  0.04166667  0.04166667  0.04166667  0.          0.04166667  0.04166667\n",
      "  0.04166667  0.          0.04166667  0.          0.04166667  0.08333333\n",
      "  0.          0.          0.04166667  0.          0.04166667  0.          0.\n",
      "  0.        ]\n"
     ]
    }
   ],
   "source": [
    "print(p0V)"
   ]
  },
  {
   "cell_type": "code",
   "execution_count": 7,
   "metadata": {},
   "outputs": [
    {
     "name": "stdout",
     "output_type": "stream",
     "text": [
      "[ 0.          0.05263158  0.          0.          0.          0.05263158\n",
      "  0.05263158  0.          0.          0.          0.          0.          0.\n",
      "  0.10526316  0.05263158  0.15789474  0.          0.          0.\n",
      "  0.05263158  0.          0.05263158  0.          0.05263158  0.05263158\n",
      "  0.05263158  0.          0.05263158  0.          0.05263158  0.05263158\n",
      "  0.10526316]\n"
     ]
    }
   ],
   "source": [
    "print(p1V)"
   ]
  },
  {
   "cell_type": "code",
   "execution_count": null,
   "metadata": {
    "collapsed": true
   },
   "outputs": [],
   "source": []
  }
 ],
 "metadata": {
  "kernelspec": {
   "display_name": "Python 3",
   "language": "python",
   "name": "python3"
  },
  "language_info": {
   "codemirror_mode": {
    "name": "ipython",
    "version": 3
   },
   "file_extension": ".py",
   "mimetype": "text/x-python",
   "name": "python",
   "nbconvert_exporter": "python",
   "pygments_lexer": "ipython3",
   "version": "3.6.2"
  }
 },
 "nbformat": 4,
 "nbformat_minor": 2
}
